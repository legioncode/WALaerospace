{
 "cells": [
  {
   "cell_type": "code",
   "execution_count": 8,
   "metadata": {},
   "outputs": [
    {
     "name": "stdout",
     "output_type": "stream",
     "text": [
      "           mass (kg)  volume (m^3)\n",
      "parcel_ID                         \n",
      "CL1#1          194.1         0.462\n",
      "CL1#2          210.6         0.793\n",
      "CL1#3           68.5         0.653\n",
      "CL1#4          199.8         0.436\n",
      "CL1#5          126.6         1.005\n",
      "CL1#6          139.0         0.014\n",
      "CL1#7           86.6         0.560\n",
      "CL1#8          353.6         0.493\n",
      "CL1#9          225.0         0.751\n",
      "CL1#10         149.1         0.415\n",
      "CL1#11         143.7         0.381\n",
      "CL1#12          88.4         0.309\n",
      "CL1#13          73.7         0.206\n",
      "CL1#14         124.4         0.166\n",
      "CL1#15          77.1         1.137\n",
      "CL1#16         116.0         0.484\n",
      "CL1#17         301.5         0.309\n",
      "CL1#18         379.1         0.218\n",
      "CL1#19         227.1         0.257\n",
      "CL1#20         108.9         0.529\n",
      "CL1#21         124.4         0.018\n",
      "CL1#22         176.9         0.570\n",
      "CL1#23         117.5         0.168\n",
      "CL1#24         111.1         0.835\n",
      "CL1#25         129.1         0.046\n",
      "CL1#26          73.7         0.098\n",
      "CL1#27         170.3         0.276\n",
      "CL1#28         149.2         0.876\n",
      "CL1#29         217.7         0.040\n",
      "CL1#30         296.9         0.788\n",
      "...              ...           ...\n",
      "CL1#71          43.0         0.423\n",
      "CL1#72         103.7         0.378\n",
      "CL1#73          77.2         0.117\n",
      "CL1#74         289.0         0.110\n",
      "CL1#75          72.0         0.557\n",
      "CL1#76         356.6         0.611\n",
      "CL1#77         242.6         0.087\n",
      "CL1#78         234.1         0.643\n",
      "CL1#79         114.5         0.289\n",
      "CL1#80          74.0         0.093\n",
      "CL1#81         122.6         0.443\n",
      "CL1#82         128.3         0.681\n",
      "CL1#83          82.6         0.639\n",
      "CL1#84         138.3         0.663\n",
      "CL1#85         119.6         0.168\n",
      "CL1#86         212.4         0.562\n",
      "CL1#87         147.5         0.438\n",
      "CL1#88         275.6         0.483\n",
      "CL1#89         361.4         0.910\n",
      "CL1#90         361.9         0.467\n",
      "CL1#91         142.1         0.735\n",
      "CL1#92         133.1         0.845\n",
      "CL1#93         129.1         0.713\n",
      "CL1#94          89.3         0.566\n",
      "CL1#95         174.8         0.179\n",
      "CL1#96         139.2         0.935\n",
      "CL1#97         121.9         0.400\n",
      "CL1#98          78.0         1.079\n",
      "CL1#99          54.8         1.186\n",
      "CL1#100        206.4         0.130\n",
      "\n",
      "[100 rows x 2 columns]\n"
     ]
    }
   ],
   "source": [
    "import pandas as pd\n",
    "df = pd.read_csv(\"CargoList1.csv\", sep=\",\", header=0, usecols=['parcel_ID','mass (kg)', 'volume (m^3)']).set_index('parcel_ID')\n",
    "print(df)"
   ]
  },
  {
   "cell_type": "code",
   "execution_count": null,
   "metadata": {
    "collapsed": true
   },
   "outputs": [],
   "source": []
  }
 ],
 "metadata": {
  "kernelspec": {
   "display_name": "Python 3",
   "language": "python",
   "name": "python3"
  },
  "language_info": {
   "codemirror_mode": {
    "name": "ipython",
    "version": 3
   },
   "file_extension": ".py",
   "mimetype": "text/x-python",
   "name": "python",
   "nbconvert_exporter": "python",
   "pygments_lexer": "ipython3",
   "version": "3.6.8"
  }
 },
 "nbformat": 4,
 "nbformat_minor": 2
}
